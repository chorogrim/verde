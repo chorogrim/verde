{
 "cells": [
  {
   "cell_type": "code",
   "execution_count": 1,
   "id": "loose-damages",
   "metadata": {},
   "outputs": [],
   "source": [
    "from glob import glob\n",
    "import pdftotext"
   ]
  },
  {
   "cell_type": "code",
   "execution_count": 2,
   "id": "answering-exploration",
   "metadata": {},
   "outputs": [
    {
     "data": {
      "text/plain": [
       "['./Dahae_data/남아시아연구 /04. Md Golam Rabbani, Kyunghak Kim (남아시아연구 25권 4호) 8교.pdf',\n",
       " './Dahae_data/남아시아연구 /03. Kang Woojin (남아시아연구 25권 4호) 8교.pdf',\n",
       " './Dahae_data/남아시아연구 /02. GC Arun, Yeo Jun-Ho(남아시아연구 25권 4호) 8교.pdf',\n",
       " './Dahae_data/남아시아연구 /01. 이은구 (남아시아연구 25권 4호) 8교.pdf']"
      ]
     },
     "execution_count": 2,
     "metadata": {},
     "output_type": "execute_result"
    }
   ],
   "source": [
    "path = '파일들이 들어있는 폴더의 경로'\n",
    "pdf_path_list = glob('./Dahae_data/남아시아연구 */*.pdf')\n",
    "pdf_path_list"
   ]
  },
  {
   "cell_type": "code",
   "execution_count": 3,
   "id": "protective-growth",
   "metadata": {},
   "outputs": [
    {
     "data": {
      "text/plain": [
       "'남아시아연구'"
      ]
     },
     "execution_count": 3,
     "metadata": {},
     "output_type": "execute_result"
    }
   ],
   "source": [
    "paper_name3 = pdf_path_list[0].split('/')[2].split(' ')[0]\n",
    "paper_name3"
   ]
  },
  {
   "cell_type": "code",
   "execution_count": 4,
   "id": "fixed-wright",
   "metadata": {},
   "outputs": [],
   "source": [
    "def hello_paper(pdf):\n",
    "    split_pdf = pdf[0].split('\\n')\n",
    "    stop_words = ['Contents', '차례']\n",
    "\n",
    "    tmp_list = []\n",
    "\n",
    "    for i in split_pdf[1:]:\n",
    "        k = i.replace(' ','')\n",
    "        \n",
    "        if k in stop_words:\n",
    "            break\n",
    "        else:\n",
    "            i = i.replace('*', '')\n",
    "            i = i.strip()\n",
    "            i = i.lstrip('1)')\n",
    "            i = i.lstrip('2)')\n",
    "            tmp_list.append(i)\n",
    "            \n",
    "    if len(tmp_list) == 2:\n",
    "        return tmp_list[0], tmp_list[1]\n",
    "    \n",
    "    elif len(tmp_list) != 0:\n",
    "        return ''.join(tmp_list[:-1]), tmp_list[-1].replace(' ','')\n",
    "    \n",
    "    return ''.join(tmp_list[:-2]), tmp_list[-2].replace(' ','')"
   ]
  },
  {
   "cell_type": "code",
   "execution_count": 5,
   "id": "embedded-moisture",
   "metadata": {},
   "outputs": [],
   "source": [
    "def SouthernAsia_processing():\n",
    "    for i in pdf_path_list:\n",
    "        # print(i.split('/')[-1][:4])\n",
    "        \n",
    "        if i.split('/')[-1][:4] == '남아시아연구':\n",
    "            continue\n",
    "            \n",
    "        with open(i, 'rb') as f:\n",
    "            pdf = pdftotext.PDF(f)\n",
    "        print(hello_paper(pdf))"
   ]
  },
  {
   "cell_type": "code",
   "execution_count": 6,
   "id": "lyric-commercial",
   "metadata": {},
   "outputs": [
    {
     "name": "stdout",
     "output_type": "stream",
     "text": [
      "('A Study on the Transitional Experiencesof Bangladeshi Students in Korea andMobility to Australia and Canada', 'MdGolamRabbani․KimKyunghak')\n",
      "('A Study on the Determinants of Parents’School Choice for Their Children inRural India', 'KangWoojin')\n",
      "('Rice Production of Nepal in 2030:A Forecast using AutoregressiveIntegrated Moving Average Model', 'GCArun․YeoJun-Ho')\n",
      "('영령(英領) 인도에서의 힌디-우르두어 분쟁:힌두-무슬림의 분리된 정체성의 발상', '이은구')\n"
     ]
    }
   ],
   "source": [
    "title_list = []\n",
    "author_list = []\n",
    "\n",
    "\n",
    "\n",
    "with open('SouthernAsia_process.csv', 'a') as fp:\n",
    "    for path in pdf_path_list:\n",
    "#    print(path.split('/')[-1][0])\n",
    "\n",
    "        if path.split('/')[-1][0] not in ['0', '1', '2', '3', '4', '5', '6', '7', '8', '9']:\n",
    "            continue\n",
    "        \n",
    "        with open(path, 'rb') as f:\n",
    "            pdf = pdftotext.PDF(f)\n",
    "        \n",
    "        print(hello_paper(pdf))\n",
    "    \n",
    "    \n",
    "        fp.write(hello_paper(pdf)[0])\n",
    "        fp.write('!')\n",
    "        fp.write(hello_paper(pdf)[1])\n",
    "        fp.write('!')\n",
    "        fp.write(paper_name3)\n",
    "        fp.write('\\n')"
   ]
  },
  {
   "cell_type": "code",
   "execution_count": null,
   "id": "filled-strap",
   "metadata": {},
   "outputs": [],
   "source": []
  }
 ],
 "metadata": {
  "kernelspec": {
   "display_name": "p36_chorog",
   "language": "python",
   "name": "env_chorog"
  },
  "language_info": {
   "codemirror_mode": {
    "name": "ipython",
    "version": 3
   },
   "file_extension": ".py",
   "mimetype": "text/x-python",
   "name": "python",
   "nbconvert_exporter": "python",
   "pygments_lexer": "ipython3",
   "version": "3.7.10"
  }
 },
 "nbformat": 4,
 "nbformat_minor": 5
}
