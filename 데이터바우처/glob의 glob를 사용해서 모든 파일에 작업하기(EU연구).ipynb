{
 "cells": [
  {
   "cell_type": "code",
   "execution_count": 1,
   "id": "stone-evans",
   "metadata": {},
   "outputs": [],
   "source": [
    "from glob import glob\n",
    "import pdftotext"
   ]
  },
  {
   "cell_type": "code",
   "execution_count": 2,
   "id": "compound-shell",
   "metadata": {},
   "outputs": [
    {
     "data": {
      "text/plain": [
       "['./Dahae_data/EU연구/2.이종서-EU연구_29호-최종.pdf',\n",
       " './Dahae_data/EU연구/5.김성현-EU연구_29호-최종.pdf',\n",
       " './Dahae_data/EU연구/3.송병준-EU연구_29호-최종.pdf',\n",
       " './Dahae_data/EU연구/6.김원호-EU연구_29호-최종.pdf',\n",
       " './Dahae_data/EU연구/4.신동호-EU연구_29호-최종.pdf',\n",
       " './Dahae_data/EU연구/7.김대중박실비아-EU연구_29호-최종.pdf',\n",
       " './Dahae_data/EU연구/1.황기식-EU연구_29호-최종.pdf']"
      ]
     },
     "execution_count": 2,
     "metadata": {},
     "output_type": "execute_result"
    }
   ],
   "source": [
    "path = '파일들이 들어있는 폴더의 경로'\n",
    "pdf_path_list = glob('./Dahae_data/EU연구*/*.pdf')\n",
    "pdf_path_list"
   ]
  },
  {
   "cell_type": "code",
   "execution_count": 3,
   "id": "undefined-hollywood",
   "metadata": {},
   "outputs": [
    {
     "data": {
      "text/plain": [
       "'EU연구'"
      ]
     },
     "execution_count": 3,
     "metadata": {},
     "output_type": "execute_result"
    }
   ],
   "source": [
    "paper_name1 = pdf_path_list[0].split('/')[2].split(' ')[0]\n",
    "paper_name1"
   ]
  },
  {
   "cell_type": "code",
   "execution_count": 4,
   "id": "enclosed-indonesia",
   "metadata": {},
   "outputs": [],
   "source": [
    "def hello_paper(pdf):\n",
    "    split_pdf = pdf[0].split('\\n')\n",
    "    stop_words = ['Contents', '차례']\n",
    "    \n",
    "    tmp_list = []\n",
    "\n",
    "    for i in split_pdf:\n",
    "        k = i.replace(' ','')\n",
    "    \n",
    "        if k in stop_words:\n",
    "            break\n",
    "        else:\n",
    "            i = i.replace('*', '')\n",
    "            i = i.strip()\n",
    "            i = i.strip('1)')\n",
    "            i = i.rstrip('2)')\n",
    "            tmp_list.append(i)\n",
    "\n",
    "    if len(tmp_list) == 2:\n",
    "        return tmp_list[0], tmp_list[1]\n",
    "        \n",
    "    elif len(tmp_list[-1]) != 0:\n",
    "        return ''.join(tmp_list[:-1], tmp_list[-1].replace(' ',''))\n",
    "    \n",
    "    return ''.join(tmp_list[:-2]), tmp_list[-2].replace(' ','')"
   ]
  },
  {
   "cell_type": "code",
   "execution_count": 5,
   "id": "conditional-calculation",
   "metadata": {},
   "outputs": [],
   "source": [
    "def EU_processing():\n",
    "    for i in pdf_path_list:\n",
    "        # print(i.split('/')[-1][:4])\n",
    "        \n",
    "        if i.split('/')[-1][:4] == 'EU연구':\n",
    "            continue\n",
    "            \n",
    "        with open(i, 'rb') as f:\n",
    "            pdf = pdftotext.PDF(f)\n",
    "        print(hello_paper(pdf))"
   ]
  },
  {
   "cell_type": "code",
   "execution_count": 6,
   "id": "available-vegetable",
   "metadata": {},
   "outputs": [
    {
     "name": "stdout",
     "output_type": "stream",
     "text": [
      "('리스본조약과 공동통상정책: EU의 권한 변화를 중심으로', '이종서')\n",
      "('TGV건설을 통해 본 프랑스의자유주의 철도정책 도입과 기술정책', '김성현')\n",
      "('유럽연합 대외정책 결정시스템의 변화 동인과 과정', '송병준')\n",
      "('스페인의 대(對)중남미 관계설정 결정요인', '김원호')\n",
      "('EU 3개국(스페인, 프랑스, 독일)의자연재해보험 비교 및 시사점 연구- 스페인 의무 자연재해보험을 중심으로 -', '신동호')\n",
      "('프랑스 의료시스템의 역사적 고찰: 민간병원의 발전과정과 관리정책을 중심으로', '김대중·박실비아')\n",
      "('EU의 정보통신분야 공동규제정책 분석: ‘망 중립성’논쟁과 현황을 중심으로', '황기식')\n"
     ]
    }
   ],
   "source": [
    "title_list = []\n",
    "author_list = []\n",
    "\n",
    "\n",
    "\n",
    "with open('EU_process.csv', 'w') as fp:\n",
    "\n",
    "    for path in pdf_path_list:\n",
    "    #    print(path.split('/')[-1][0])\n",
    "\n",
    "        if path.split('/')[-1][0] not in ['0', '1', '2', '3', '4', '5', '6', '7', '8', '9']:\n",
    "            continue\n",
    "\n",
    "        with open(path, 'rb') as f:\n",
    "            pdf = pdftotext.PDF(f)\n",
    "\n",
    "        print(hello_paper(pdf))\n",
    "        '''\n",
    "        t, a  = hello_paper(pdf)\n",
    "        title_list.append(t)\n",
    "        author_list.append(a)    \n",
    "        '''\n",
    "\n",
    "        fp.write(hello_paper(pdf)[0])\n",
    "        fp.write('!')\n",
    "        fp.write(hello_paper(pdf)[1])\n",
    "        fp.write('!')\n",
    "        fp.write(paper_name1)\n",
    "        fp.write('\\n')"
   ]
  },
  {
   "cell_type": "code",
   "execution_count": null,
   "id": "signed-johns",
   "metadata": {},
   "outputs": [],
   "source": []
  }
 ],
 "metadata": {
  "kernelspec": {
   "display_name": "p36_chorog",
   "language": "python",
   "name": "env_chorog"
  },
  "language_info": {
   "codemirror_mode": {
    "name": "ipython",
    "version": 3
   },
   "file_extension": ".py",
   "mimetype": "text/x-python",
   "name": "python",
   "nbconvert_exporter": "python",
   "pygments_lexer": "ipython3",
   "version": "3.7.10"
  }
 },
 "nbformat": 4,
 "nbformat_minor": 5
}
