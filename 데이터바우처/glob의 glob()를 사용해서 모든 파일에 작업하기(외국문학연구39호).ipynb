{
 "cells": [
  {
   "cell_type": "code",
   "execution_count": 4,
   "id": "referenced-glory",
   "metadata": {},
   "outputs": [],
   "source": [
    "from glob import glob\n",
    "import pdftotext"
   ]
  },
  {
   "cell_type": "code",
   "execution_count": 5,
   "id": "matched-vegetation",
   "metadata": {},
   "outputs": [
    {
     "data": {
      "text/plain": [
       "['./Dahae_data/외국문학연구/9.심지은-최종.pdf',\n",
       " './Dahae_data/외국문학연구/3.김효-최종.pdf',\n",
       " './Dahae_data/외국문학연구/4.류은영-최종.pdf',\n",
       " './Dahae_data/외국문학연구/17.한성철-최종.pdf',\n",
       " './Dahae_data/외국문학연구/10.안숭범-최종.pdf',\n",
       " './Dahae_data/외국문학연구/14.이영구, 박인호-최종.pdf',\n",
       " './Dahae_data/외국문학연구/5.박남용,_이혁-최종.pdf',\n",
       " './Dahae_data/외국문학연구/8.심종숙-최종.pdf',\n",
       " './Dahae_data/외국문학연구/13.이상엽-최종.pdf',\n",
       " './Dahae_data/외국문학연구/7.송필환-최종.pdf',\n",
       " './Dahae_data/외국문학연구/1.김경희-최종.pdf',\n",
       " './Dahae_data/외국문학연구/15.최난옥-최종.pdf',\n",
       " './Dahae_data/외국문학연구/11.원종익-최종.pdf',\n",
       " './Dahae_data/외국문학연구/6.배양수-최종.pdf',\n",
       " './Dahae_data/외국문학연구/16.하명해-최종.pdf',\n",
       " './Dahae_data/외국문학연구/12.유진일-최종.pdf',\n",
       " './Dahae_data/외국문학연구/2.김창준-최종.pdf']"
      ]
     },
     "execution_count": 5,
     "metadata": {},
     "output_type": "execute_result"
    }
   ],
   "source": [
    "path = '파일들이 들어있는 폴더의 경로'\n",
    "pdf_path_list = glob('./Dahae_data/외국문학연구*/*.pdf')\n",
    "pdf_path_list"
   ]
  },
  {
   "cell_type": "code",
   "execution_count": 6,
   "id": "selected-costa",
   "metadata": {},
   "outputs": [
    {
     "data": {
      "text/plain": [
       "'외국문학연구'"
      ]
     },
     "execution_count": 6,
     "metadata": {},
     "output_type": "execute_result"
    }
   ],
   "source": [
    "paper_name7 = pdf_path_list[0].split('/')[2].split(' ')[0]\n",
    "paper_name7"
   ]
  },
  {
   "cell_type": "code",
   "execution_count": 7,
   "id": "dirty-shelter",
   "metadata": {},
   "outputs": [],
   "source": [
    "def hello_paper(pdf):\n",
    "    split_pdf = pdf[0].split('\\n')\n",
    "    stop_words = '〔국문요약〕'\n",
    "    \n",
    "    tmp_list = []\n",
    "\n",
    "    for i in split_pdf[1:]:\n",
    "        k = i.replace(' ','')\n",
    "    \n",
    "        if k in stop_words:\n",
    "            break\n",
    "        else:\n",
    "            i = i.replace('*', '')\n",
    "            i = i.strip()\n",
    "            i = i.strip('1)')\n",
    "            i = i.rstrip('2)')\n",
    "            tmp_list.append(i)\n",
    "\n",
    "    if len(tmp_list) == 2:\n",
    "        return tmp_list[0], tmp_list[1]\n",
    "        \n",
    "    elif len(tmp_list[-1]) != 0:\n",
    "        return ''.join(tmp_list[:-2]), tmp_list[-2].replace(' ','')"
   ]
  },
  {
   "cell_type": "code",
   "execution_count": 8,
   "id": "spatial-collaboration",
   "metadata": {},
   "outputs": [],
   "source": [
    "def Foreign_processing():\n",
    "    for i in pdf_path_list:\n",
    "        # print(i.split('/')[-1][:4])\n",
    "        \n",
    "        if i.split('/')[-1][:4] == '외국문학연구':\n",
    "            continue\n",
    "            \n",
    "        with open(i, 'rb') as f:\n",
    "            pdf = pdftotext.PDF(f)\n",
    "        print(hello_paper(pdf))"
   ]
  },
  {
   "cell_type": "code",
   "execution_count": 9,
   "id": "nearby-prague",
   "metadata": {},
   "outputs": [
    {
     "name": "stdout",
     "output_type": "stream",
     "text": [
      "('작가-푸슈킨과 화가-푸슈킨의 대화 ', '심지은')\n",
      "('한국과 서구의 공연예술 미학:카타르시스와 신명풀이의 재조명 ', '김효')\n",
      "('담화의 논리: 구술에서 디지털스토리텔링까지', '류은영')\n",
      "('빗토리니, 칼비노 소설에 표현된 반 로고스-Conversazione in Sicilia와 Il cavaliere inesistente를 중심으로-', '한성철')\n",
      "('<천년여우 여우비>와 <벼랑 위의 포뇨> 변신 모티프의윤리적 의미 -상징적 서사 공간을 중심으로', '안숭범')\n",
      "('류전윈 劉震雲 신사실주의 소설에 나타난 아이러니irony 연구- ‘직장소설 职场小说’과 ‘공직사회소설 官界小说’을 중심으로', '이영구,박민호')\n",
      "('쑤퉁(蘇童)소설에 나타난 하층민 형상과 뱀의 이미지-『뱀이 왜 날까 蛇为什麽会飞』를 중심으로 -', '박남용,이혁')\n",
      "('미야자와 겐지 宮澤賢治 문학에 나타난 개인과 전체-타골 사상의 수용과 관련하여-', '심종숙')\n",
      "('20세기 이탈리아 시문학에 관한 소고', '이상엽')\n",
      "('페르난두 뻬쏘아의 이교주의 ', '송필환')\n",
      "('일본 근세소설을 통해 본 괴담의 논리-『雨月物語』를 중심으로-', '김경희')\n",
      "('보딴의 소설 『태국에서 온 편지』에 나타난 다문화공존의 기술(技術', '최난옥')\n",
      "('네그리튀드에서 미그리튀드로 :새로운 세대의 아프리카 문학', '원종익')\n",
      "('응웬비엣하의『신의 기회』에 대한 논쟁 연구', '배양수')\n",
      "('독일 포이통 Feuilleton의 장르미학적 연구', '하명해')\n",
      "('『인간의 비극』에 나타난 문학적 공간의 구조와 의미', '유진일')\n",
      "('토마스 만의 \\U000f0854마의 산\\U000f0855에 나타난 에로스와 죽음', '김창준')\n"
     ]
    }
   ],
   "source": [
    "title_list = []\n",
    "author_list = []\n",
    "\n",
    "\n",
    "with open('Foreign_process.csv', 'w') as fp:\n",
    "\n",
    "    for path in pdf_path_list:\n",
    "    #    print(path.split('/')[-1][0])\n",
    "\n",
    "        if path.split('/')[-1][0] not in ['0', '1', '2', '3', '4', '5', '6', '7', '8', '9']:\n",
    "            continue\n",
    "\n",
    "        with open(path, 'rb') as f:\n",
    "            pdf = pdftotext.PDF(f)\n",
    "\n",
    "        print(hello_paper(pdf))\n",
    "    \n",
    "        fp.write(hello_paper(pdf)[0])\n",
    "        fp.write('!')\n",
    "        fp.write(hello_paper(pdf)[1])\n",
    "        fp.write('!')\n",
    "        fp.write(paper_name7)\n",
    "        fp.write('\\n')"
   ]
  },
  {
   "cell_type": "code",
   "execution_count": null,
   "id": "cutting-uniform",
   "metadata": {},
   "outputs": [],
   "source": []
  }
 ],
 "metadata": {
  "kernelspec": {
   "display_name": "p36_chorog",
   "language": "python",
   "name": "env_chorog"
  },
  "language_info": {
   "codemirror_mode": {
    "name": "ipython",
    "version": 3
   },
   "file_extension": ".py",
   "mimetype": "text/x-python",
   "name": "python",
   "nbconvert_exporter": "python",
   "pygments_lexer": "ipython3",
   "version": "3.7.10"
  }
 },
 "nbformat": 4,
 "nbformat_minor": 5
}
