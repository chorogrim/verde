{
 "cells": [
  {
   "cell_type": "code",
   "execution_count": 13,
   "id": "accessory-freight",
   "metadata": {},
   "outputs": [],
   "source": [
    "from glob import glob\n",
    "import pdftotext"
   ]
  },
  {
   "cell_type": "code",
   "execution_count": 14,
   "id": "missing-chile",
   "metadata": {},
   "outputs": [
    {
     "data": {
      "text/plain": [
       "['./Dahae_data/동유럽발칸연구/01. 김민수(동유럽발칸연구 38권 2호 - 언어학)-최종.pdf',\n",
       " './Dahae_data/동유럽발칸연구/05. 최성은(동유럽발칸연구 38권 2호 - 문학)-최종.pdf',\n",
       " './Dahae_data/동유럽발칸연구/02. 김규진(동유럽발칸연구 38권 2호 - 문학)-최종.pdf',\n",
       " './Dahae_data/동유럽발칸연구/06. 강봉구(동유럽발칸연구 38권 2호 - 정치.경제학)-최종.pdf',\n",
       " './Dahae_data/동유럽발칸연구/04. 유선비(동유럽발칸연구 38권 2호 - 문학) 4교.pdf',\n",
       " './Dahae_data/동유럽발칸연구/03. 백승남(동유럽발칸연구 38권 2호 - 문학)-최종.pdf',\n",
       " './Dahae_data/동유럽발칸연구/07. 김신규(동유럽발칸연구 38권 2호 - 정치.경제학)-최종.pdf']"
      ]
     },
     "execution_count": 14,
     "metadata": {},
     "output_type": "execute_result"
    }
   ],
   "source": [
    "path = '파일들이 들어있는 폴더의 경로'\n",
    "pdf_path_list = glob('./Dahae_data/동유럽발칸연구*/*.pdf')\n",
    "pdf_path_list"
   ]
  },
  {
   "cell_type": "code",
   "execution_count": 15,
   "id": "composite-dancing",
   "metadata": {},
   "outputs": [
    {
     "data": {
      "text/plain": [
       "'동유럽발칸연구'"
      ]
     },
     "execution_count": 15,
     "metadata": {},
     "output_type": "execute_result"
    }
   ],
   "source": [
    "paper_name4 = pdf_path_list[0].split('/')[2].split(' ')[0]\n",
    "paper_name4"
   ]
  },
  {
   "cell_type": "code",
   "execution_count": 16,
   "id": "based-twenty",
   "metadata": {},
   "outputs": [],
   "source": [
    "def hello_paper(pdf):\n",
    "    split_pdf = pdf[0].split('\\n')\n",
    "    stop_words = '차례'\n",
    "\n",
    "    tmp_list = []\n",
    "\n",
    "    for i in split_pdf:\n",
    "        k = i.replace(' ','')\n",
    "        \n",
    "        if k in stop_words:\n",
    "            break\n",
    "        else:\n",
    "            i = i.replace('*', '')\n",
    "            i = i.strip()\n",
    "            i = i.lstrip('1)')\n",
    "            i = i.lstrip('2)')\n",
    "            i = i.rstrip('1)')\n",
    "            i = i.rstrip('2)')\n",
    "            tmp_list.append(i)\n",
    "            \n",
    "    if len(tmp_list) == 2:\n",
    "        return tmp_list[0], tmp_list[1]\n",
    "    \n",
    "    elif len(tmp_list) != 0:\n",
    "        return ''.join(tmp_list[:-1]), tmp_list[-1].replace(' ','')\n",
    "    \n",
    "    return ''.join(tmp_list[:-2]), tmp_list[-2].replace(' ','')"
   ]
  },
  {
   "cell_type": "code",
   "execution_count": 17,
   "id": "oriented-spokesman",
   "metadata": {},
   "outputs": [],
   "source": [
    "def EasternEurope_processing():\n",
    "    for i in pdf_path_list:\n",
    "        # print(i.split('/')[-1][:4])\n",
    "        \n",
    "        if i.split('/')[-1][:4] == '동유럽발칸연구':\n",
    "            continue\n",
    "            \n",
    "        with open(i, 'rb') as f:\n",
    "            pdf = pdftotext.PDF(f)\n",
    "        print(hello_paper(pdf))"
   ]
  },
  {
   "cell_type": "code",
   "execution_count": 18,
   "id": "danish-hacker",
   "metadata": {},
   "outputs": [
    {
     "name": "stdout",
     "output_type": "stream",
     "text": [
      "('러시아연방 하카스공화국의 언어정책과 언어상황', '김민수')\n",
      "('폴란드 사회주의리얼리즘 소설에 반영된 한국전쟁과한국의 이미지 ', '최성은')\n",
      "('차펙의 희곡 『어머니』에 나타난 주제와 모티프 연구', '김규진')\n",
      "('러시아의 크림 병합: 신냉전인가,포스트소비에트 시기의 종언인가?', '강봉구')\n",
      "(\"체코의 '파스모' 양식과 그 특성\", '유선비')\n",
      "('독재와 저항, 단절과 소통:체아우셰스쿠 시대 아나 블란디아나의 시 “모든 것Totul”을 중심으로', '백승남')\n",
      "('선거제도 변화의 영향 분석:체코의 하원 선거법과 대통령 선거법 개정을 사례로', '김신규')\n"
     ]
    }
   ],
   "source": [
    "title_list = []\n",
    "author_list = []\n",
    "\n",
    "\n",
    "\n",
    "with open('EasternEurope_process.csv', 'a') as fp:\n",
    "    \n",
    "    for path in pdf_path_list:\n",
    "#    print(path.split('/')[-1][0])\n",
    "\n",
    "        if path.split('/')[-1][0] not in ['0', '1', '2', '3', '4', '5', '6', '7', '8', '9']:\n",
    "            continue\n",
    "        \n",
    "        with open(path, 'rb') as f:\n",
    "            pdf = pdftotext.PDF(f)\n",
    "        \n",
    "        print(hello_paper(pdf))\n",
    "    \n",
    "\n",
    "        fp.write(hello_paper(pdf)[0])\n",
    "        fp.write('!')\n",
    "        fp.write(hello_paper(pdf)[1])\n",
    "        fp.write('!')\n",
    "        fp.write(paper_name4)\n",
    "        fp.write('\\n')"
   ]
  },
  {
   "cell_type": "code",
   "execution_count": null,
   "id": "assured-meeting",
   "metadata": {},
   "outputs": [],
   "source": []
  }
 ],
 "metadata": {
  "kernelspec": {
   "display_name": "p36_chorog",
   "language": "python",
   "name": "env_chorog"
  },
  "language_info": {
   "codemirror_mode": {
    "name": "ipython",
    "version": 3
   },
   "file_extension": ".py",
   "mimetype": "text/x-python",
   "name": "python",
   "nbconvert_exporter": "python",
   "pygments_lexer": "ipython3",
   "version": "3.7.10"
  }
 },
 "nbformat": 4,
 "nbformat_minor": 5
}
