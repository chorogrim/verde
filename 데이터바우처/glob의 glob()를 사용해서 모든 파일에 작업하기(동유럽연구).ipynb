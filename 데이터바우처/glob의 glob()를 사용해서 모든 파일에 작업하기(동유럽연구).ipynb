{
 "cells": [
  {
   "cell_type": "code",
   "execution_count": 7,
   "id": "dominant-mexican",
   "metadata": {},
   "outputs": [],
   "source": [
    "from glob import glob\n",
    "import pdftotext"
   ]
  },
  {
   "cell_type": "code",
   "execution_count": 8,
   "id": "radio-blogger",
   "metadata": {},
   "outputs": [
    {
     "data": {
      "text/plain": [
       "['./Dahae_data/동유럽연구 /10. Eva Eckert, Ph.D(지역학)-동유럽연구 28-최종.pdf',\n",
       " './Dahae_data/동유럽연구 /05._이옥진(문학)-동유럽연구_28-최종.pdf',\n",
       " './Dahae_data/동유럽연구 /02._추석훈(어학)-동유럽연구_28-최종.pdf',\n",
       " './Dahae_data/동유럽연구 /04._유진일(문학)-동유럽연구_28-최종.pdf',\n",
       " './Dahae_data/동유럽연구 /06. 정병권(문학)-동유럽연구 28-최종.pdf',\n",
       " './Dahae_data/동유럽연구 /12._SANDOR_KOVACS(지역학)-동유럽연구_28-최종[1].pdf',\n",
       " './Dahae_data/동유럽연구 /08. 김원회(지역학)-동유럽연구 28-최종.pdf',\n",
       " './Dahae_data/동유럽연구 /07._김신규(지역학)-동유럽연구_28-최종.pdf',\n",
       " './Dahae_data/동유럽연구 /09. Milena Dobranova(지역학)-동유럽연구 28-최종.pdf',\n",
       " './Dahae_data/동유럽연구 /11. Oana Fotache(지역학)-동유럽연구 28-최종.pdf',\n",
       " './Dahae_data/동유럽연구 /03._김규진(문학)-동유럽연구_28-최종.pdf',\n",
       " './Dahae_data/동유럽연구 /01._이문수(어학)-동유럽연구_28-최종.pdf',\n",
       " './Dahae_data/동유럽연구 /13. Jozef Matula(지역학)-동유럽연구 28-최종.pdf']"
      ]
     },
     "execution_count": 8,
     "metadata": {},
     "output_type": "execute_result"
    }
   ],
   "source": [
    "path = '파일들이 들어있는 폴더의 경로'\n",
    "pdf_path_list = glob('./Dahae_data/동유럽연구*/*.pdf')\n",
    "pdf_path_list"
   ]
  },
  {
   "cell_type": "code",
   "execution_count": 9,
   "id": "together-prairie",
   "metadata": {},
   "outputs": [
    {
     "data": {
      "text/plain": [
       "'동유럽연구'"
      ]
     },
     "execution_count": 9,
     "metadata": {},
     "output_type": "execute_result"
    }
   ],
   "source": [
    "paper_name5 = pdf_path_list[0].split('/')[2].split(' ')[0]\n",
    "paper_name5"
   ]
  },
  {
   "cell_type": "code",
   "execution_count": 10,
   "id": "genetic-leadership",
   "metadata": {},
   "outputs": [],
   "source": [
    "def hello_paper(pdf):\n",
    "    split_pdf = pdf[0].split('\\n')\n",
    "    stop_words = ['차례', 'Contents']\n",
    "\n",
    "    tmp_list = []\n",
    "\n",
    "    for i in split_pdf:\n",
    "        k = i.replace(' ','')\n",
    "        \n",
    "        if k in stop_words:\n",
    "            break\n",
    "        else:\n",
    "            i = i.replace('*', '')\n",
    "            i = i.strip()\n",
    "            i = i.lstrip('1)')\n",
    "            i = i.rstrip('2)')\n",
    "            i = i.rstrip('1)')\n",
    "            tmp_list.append(i)\n",
    "            \n",
    "    if len(tmp_list) == 2:\n",
    "        return tmp_list[0], tmp_list[1]\n",
    "    \n",
    "    elif len(tmp_list) != 0:\n",
    "        return ''.join(tmp_list[:-1]), tmp_list[-1].replace(' ','')\n",
    "    \n",
    "    return ''.join(tmp_list[:-2]), tmp_list[-2].replace(' ','')"
   ]
  },
  {
   "cell_type": "code",
   "execution_count": 11,
   "id": "superb-reference",
   "metadata": {},
   "outputs": [],
   "source": [
    "def EasternEurope2_processing():\n",
    "    for i in pdf_path_list:\n",
    "        # print(i.split('/')[-1][:4])\n",
    "        \n",
    "        if i.split('/')[-1][:4] == '동유럽연구':\n",
    "            continue\n",
    "            \n",
    "        with open(i, 'rb') as f:\n",
    "            pdf = pdftotext.PDF(f)\n",
    "        print(hello_paper(pdf))"
   ]
  },
  {
   "cell_type": "code",
   "execution_count": 12,
   "id": "attractive-rocket",
   "metadata": {},
   "outputs": [
    {
     "name": "stdout",
     "output_type": "stream",
     "text": [
      "('Migration and Memory of Central EuropeEva Eckert, Ph.D.', '')\n",
      "('루제비츠의 \\U000f0854카드인덱스 Kartoteka\\U000f0855에 나타나는인물형태와 언어 분석', '이옥진')\n",
      "('The Typology of Deverbal and Verbal Nouns in Slavic- focusing on Bulgarian ', 'SukhoonChoo')\n",
      "('코스톨라니 대죄(KosztolányiDezső)의『퍼치르터(Pacsirta)』에 나타난트라우마(trauma)와 무의식(無意識)의 발현(發現', '유진일')\n",
      "('프루스의 소설 <초소>의 주인공 실리막 연구', '정 병 권')\n",
      "('History and Timelessness in a Short Story by MiklósMészöly ', 'SándorKovács')\n",
      "('BSEC과 흑해의 미래', '김원회')\n",
      "('문화와 엘리트 연속성을 통해 살펴본 중동부유럽의 부패:중부유럽과 발칸유럽 국가의 부패 비교 연구', '김신규')\n",
      "('Old Conception, New Perceptions.Representation of Socialist Reality in the Movie Zift(2008Milena Dobranova', '')\n",
      "('Narrating the Communist Prison: An Interpretive Model ofSome Romanian Case Studies', 'OanaFotache')\n",
      "('차펙의 『위경 이야기들』에 나타난 비유', '김 규 진')\n",
      "('루마니아어 정서법의 상징적 의미 -1994년 개정된 정서법을 중심으로-', '이문수')\n",
      "('Path to Morality: Two Decades after the Fall ofCommunismJozef Matula', '')\n"
     ]
    }
   ],
   "source": [
    "title_list = []\n",
    "author_list = []\n",
    "\n",
    "\n",
    "with open('EasternEurope2_process.csv', 'a') as fp:\n",
    "    for path in pdf_path_list:\n",
    "#    print(path.split('/')[-1][0])\n",
    "\n",
    "        if path.split('/')[-1][0] not in ['0', '1', '2', '3', '4', '5', '6', '7', '8', '9']:\n",
    "            continue\n",
    "        \n",
    "        with open(path, 'rb') as f:\n",
    "            pdf = pdftotext.PDF(f)\n",
    "        \n",
    "        print(hello_paper(pdf))\n",
    "    \n",
    "        fp.write(hello_paper(pdf)[0])\n",
    "        fp.write('!')\n",
    "        fp.write(hello_paper(pdf)[1])\n",
    "        fp.write('!')\n",
    "        fp.write(paper_name5)\n",
    "        fp.write('\\n')"
   ]
  },
  {
   "cell_type": "code",
   "execution_count": null,
   "id": "distributed-diameter",
   "metadata": {},
   "outputs": [],
   "source": []
  }
 ],
 "metadata": {
  "kernelspec": {
   "display_name": "p36_chorog",
   "language": "python",
   "name": "env_chorog"
  },
  "language_info": {
   "codemirror_mode": {
    "name": "ipython",
    "version": 3
   },
   "file_extension": ".py",
   "mimetype": "text/x-python",
   "name": "python",
   "nbconvert_exporter": "python",
   "pygments_lexer": "ipython3",
   "version": "3.7.10"
  }
 },
 "nbformat": 4,
 "nbformat_minor": 5
}
