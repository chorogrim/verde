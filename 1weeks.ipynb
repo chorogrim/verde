{
  "nbformat": 4,
  "nbformat_minor": 0,
  "metadata": {
    "colab": {
      "name": "1weeks.ipynb",
      "provenance": [],
      "collapsed_sections": [],
      "authorship_tag": "ABX9TyOQakRj65hHkN11VhVMsZ2g",
      "include_colab_link": true
    },
    "kernelspec": {
      "name": "python3",
      "display_name": "Python 3"
    }
  },
  "cells": [
    {
      "cell_type": "markdown",
      "metadata": {
        "id": "view-in-github",
        "colab_type": "text"
      },
      "source": [
        "<a href=\"https://colab.research.google.com/github/chorogrim/verde/blob/master/1weeks.ipynb\" target=\"_parent\"><img src=\"https://colab.research.google.com/assets/colab-badge.svg\" alt=\"Open In Colab\"/></a>"
      ]
    },
    {
      "cell_type": "markdown",
      "metadata": {
        "id": "yH1MQgJIAR8e",
        "colab_type": "text"
      },
      "source": [
        "# 4가지 기술\n",
        "\n",
        "\n",
        "1.   언어\n",
        "2.   음성\n",
        "3. 이미지\n",
        "4. 자율주행\n",
        "\n"
      ]
    },
    {
      "cell_type": "code",
      "metadata": {
        "id": "HtEAkTI1BPuq",
        "colab_type": "code",
        "colab": {
          "base_uri": "https://localhost:8080/",
          "height": 35
        },
        "outputId": "c58b7a68-e29a-48f6-c5dc-e632c522dad1"
      },
      "source": [
        "print(\"언어\", \"https://www.etnews.com/20191111000262\")"
      ],
      "execution_count": 9,
      "outputs": [
        {
          "output_type": "stream",
          "text": [
            "언어 https://www.etnews.com/20191111000262\n"
          ],
          "name": "stdout"
        }
      ]
    },
    {
      "cell_type": "code",
      "metadata": {
        "id": "GTk4NDHNBa75",
        "colab_type": "code",
        "colab": {
          "base_uri": "https://localhost:8080/",
          "height": 35
        },
        "outputId": "80bca59e-587d-4ef1-df14-88df3a64700a"
      },
      "source": [
        "print(\"자율주행\", \"http://www.enewstoday.co.kr/news/articleView.html?idxno=1386691\")"
      ],
      "execution_count": 6,
      "outputs": [
        {
          "output_type": "stream",
          "text": [
            "자율주행 http://www.enewstoday.co.kr/news/articleView.html?idxno=1386691\n"
          ],
          "name": "stdout"
        }
      ]
    },
    {
      "cell_type": "code",
      "metadata": {
        "id": "3hUuetTDBU-j",
        "colab_type": "code",
        "colab": {
          "base_uri": "https://localhost:8080/",
          "height": 35
        },
        "outputId": "505a131e-6853-48a6-f6e3-2109cdc08e8f"
      },
      "source": [
        "print(\"이미지\" , \"https://www.fnnews.com/news/202005191030256370\")"
      ],
      "execution_count": 7,
      "outputs": [
        {
          "output_type": "stream",
          "text": [
            "이미지 https://www.fnnews.com/news/202005191030256370\n"
          ],
          "name": "stdout"
        }
      ]
    },
    {
      "cell_type": "code",
      "metadata": {
        "id": "CEokItzgBbiC",
        "colab_type": "code",
        "colab": {
          "base_uri": "https://localhost:8080/",
          "height": 35
        },
        "outputId": "0fe21770-9bc0-44bc-fd72-8a651255981f"
      },
      "source": [
        "print(\"음성\", \"https://www.sedaily.com/NewsView/1Z3VT2EQA1\")"
      ],
      "execution_count": 8,
      "outputs": [
        {
          "output_type": "stream",
          "text": [
            "음성 https://www.sedaily.com/NewsView/1Z3VT2EQA1\n"
          ],
          "name": "stdout"
        }
      ]
    }
  ]
}