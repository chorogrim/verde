{
  "nbformat": 4,
  "nbformat_minor": 0,
  "metadata": {
    "colab": {
      "name": "4weeks.ipynb",
      "provenance": [],
      "collapsed_sections": [],
      "include_colab_link": true
    },
    "kernelspec": {
      "name": "python3",
      "display_name": "Python 3"
    }
  },
  "cells": [
    {
      "cell_type": "markdown",
      "metadata": {
        "id": "view-in-github",
        "colab_type": "text"
      },
      "source": [
        "<a href=\"https://colab.research.google.com/github/chorogrim/verde/blob/master/4weeks.ipynb\" target=\"_parent\"><img src=\"https://colab.research.google.com/assets/colab-badge.svg\" alt=\"Open In Colab\"/></a>"
      ]
    },
    {
      "cell_type": "markdown",
      "metadata": {
        "id": "wxkL6PjwsI6L",
        "colab_type": "text"
      },
      "source": [
        "# 4주차 과제\n",
        "- 용어 정리\n",
        "- 딥러닝 강의 클론 코딩\n",
        "- 딥러닝 순전파 & 역전파 계산"
      ]
    },
    {
      "cell_type": "markdown",
      "metadata": {
        "id": "ixEtDe6_uGgI",
        "colab_type": "text"
      },
      "source": [
        "## 1. 용어 정리\n",
        "\n",
        "다음 제시된 단어의 정의(설명)를 정리하여 작성 하세요.\n",
        "\n",
        "* 2문장 이상 작성 해 주세요. \n",
        "* 주제(단어)와 크게 벗어나지만 않는다면 정답처리 됩니다.\n",
        "* 강의 뿐 아니라 기타 레퍼런스를 참고하여 작성하셔도 됩니다. (기타 레퍼런스를 참고하신 경우, 해당 레퍼런스를 정리하여 하단에 작성해 주세요.)\n"
      ]
    },
    {
      "cell_type": "markdown",
      "metadata": {
        "id": "0lfwat8eurKZ",
        "colab_type": "text"
      },
      "source": [
        "__(예시)__\n",
        "### 심층 신경망\n",
        ": 입력층과 출력층 사이에 여러 개의 은닉층들로 이뤄진 인공신경망이다. 심층 신경망은 일반적으로 인공신경망과 마찬가지로 복잡한 비선형 관계들을 모델링 할 수 있다. 신층신경망의 목적은 분류 및 수치예측을 하기 위함이고 이미지 트레이닝이나 문자인식과 같은 분야에서 매우 유용하게 쓰이고 있다."
      ]
    },
    {
      "cell_type": "markdown",
      "metadata": {
        "id": "Y8YJNKG_v65A",
        "colab_type": "text"
      },
      "source": [
        "### MCP 뉴런\n",
        ":1943년 신경과학자인 Warren S.McCulloch과 논리학자인 Walter Pitts는 하나의 사람\n",
        "뇌 신경세포를 하나의 이진(Binary)출력을 가지는 단순 논리 게이트로 설명했는데,\n",
        "이를 McCulloch-Pitts뉴런(MCP)뉴런이라 부른다.\n",
        "\n",
        "### 퍼셉트론\n",
        ":인공신경망의 한 종류로서, 1957년에 프랑크 로젠블라트 (Frank Rosenblatt)에 의해 고안되었다. 퍼셉트론은 다중의 입력값으로 뉴런을 활성화 시켜 하나의 출력을 내보내는 시스템이다.\n",
        "\n",
        "### 역전파\n",
        ":역전파 알고리즘은 input과 output값을 알고 있는 상태에서 신경망을 학습 시키는 방법이다. 이 방법을 지도학습이라고 한다.\n",
        "\n",
        "### 강화학습\n",
        ":지도학습이나 비지도학습과는 또 다른 영역에 속하고, 강화학습에서는 에이전트와 보상이라는 개념이 중요하다. 주어진 환경 안에서 에이전트가 잘했을 때는 상을 주고 \n",
        "못했을 때는 벌을 주며 우리가 원하는 방향으로 행동하도록 학습시키는 방식이라고 할 수 있다.\n",
        "\n",
        "### 과적합\n",
        ":머신러닝에서 학습데이터를 과하게 학습하는 행위를 뜻하고, 학습 되지 않은 다른 데이터에 대해서는 잘 대응되지 않는다.\n",
        "\n",
        "\n",
        "### 차원의 저주\n",
        ": 데이터의 차원이 증가할수록 해당공간의 크기가 기하급수적으로 증가하기때문에\n",
        "동일한개수의 데이터의 밀도는 차원이 증가할수록 급속도로 희박해진다.\n",
        "따라서 , 차원이 증가할수록 데이터의 분포 분석 또는 모델추정에 필요한 샘플 데이터의 갯수가 기하급수적으로 증가하게 된다.\n",
        "\n"
      ]
    },
    {
      "cell_type": "markdown",
      "metadata": {
        "id": "d-zfFXLCy6jD",
        "colab_type": "text"
      },
      "source": [
        "## 2. 딥러닝 강의 클론 코딩\n",
        "\n",
        "####__퍼셉트론 구조 구현하기__ \n",
        "딥러닝 강의(__딥러닝 원리[1] 3:15 ~ 5:15 부분__)를 보고 코드를 따라 치며 출력 결과를 만드세요.\n",
        " \n",
        "\n",
        "* 하나의 코드셀에 해당 코드를 한번에 다 적어서 실행해주세요 (__그렇게 하지 않을 경우, 아래 이미지와 같은 출력값이 나오지 않을 수 있습니다__)\n",
        "\n",
        "*__주의!__ 실제로 코딩해서 출력해보면 강의에 나온 출력 결과와 다르게 나옵니다!!\n"
      ]
    },
    {
      "cell_type": "code",
      "metadata": {
        "id": "QCt_ymUEG3hd",
        "colab_type": "code",
        "colab": {
          "base_uri": "https://localhost:8080/",
          "height": 215
        },
        "outputId": "d5520382-11b4-48c7-98f7-d0721d83df30"
      },
      "source": [
        "import tensorflow as tf\n",
        "tf.compat.v1.set_random_seed(2020)\n",
        "x = 1\n",
        "y = 0\n",
        "w = tf.random.normal([1],0,1)\n",
        "\n",
        "import math\n",
        "def sigmoid(x) :\n",
        "     return 1/(1 + math.exp(-x))\n",
        "\n",
        "output = sigmoid( x * w )\n",
        "print(output)\n",
        "\n",
        "for i in range(1000) :\n",
        "  output = sigmoid(x*w)\n",
        "  error = y -output\n",
        "  w = w + x*0.1*error\n",
        "\n",
        "  if i % 100 == 99:\n",
        "    print(\"학습 횟수 :\" ,i, \"Error:\", error, \"예측 결과:\", output)"
      ],
      "execution_count": null,
      "outputs": [
        {
          "output_type": "stream",
          "text": [
            "0.47477188589261\n",
            "학습 횟수 : 99 Error: -0.10010598284299604 예측 결과: 0.10010598284299604\n",
            "학습 횟수 : 199 Error: -0.05178399422833116 예측 결과: 0.05178399422833116\n",
            "학습 횟수 : 299 Error: -0.034590451977903586 예측 결과: 0.034590451977903586\n",
            "학습 횟수 : 399 Error: -0.02588962752851373 예측 결과: 0.02588962752851373\n",
            "학습 횟수 : 499 Error: -0.020658699939863617 예측 결과: 0.020658699939863617\n",
            "학습 횟수 : 599 Error: -0.017174253993457355 예측 결과: 0.017174253993457355\n",
            "학습 횟수 : 699 Error: -0.014689506449480992 예측 결과: 0.014689506449480992\n",
            "학습 횟수 : 799 Error: -0.012829497265431342 예측 결과: 0.012829497265431342\n",
            "학습 횟수 : 899 Error: -0.011385568271837804 예측 결과: 0.011385568271837804\n",
            "학습 횟수 : 999 Error: -0.010232493309882492 예측 결과: 0.010232493309882492\n"
          ],
          "name": "stdout"
        }
      ]
    },
    {
      "cell_type": "markdown",
      "metadata": {
        "id": "wcc5mzI9oZ7r",
        "colab_type": "text"
      },
      "source": [
        "![대체 텍스트](https://www.notion.so/image/https%3A%2F%2Fs3-us-west-2.amazonaws.com%2Fsecure.notion-static.com%2F0cceeed0-0235-4b0f-af88-0b8c377d5b4b%2F_2020-06-09__9.35.23.png?table=block&id=88fd8912-9356-49a4-9fda-a1a63fe96ea9&width=2870&cache=v2)"
      ]
    },
    {
      "cell_type": "markdown",
      "metadata": {
        "id": "kr0HVRk8fOom",
        "colab_type": "text"
      },
      "source": [
        "## 3. 딥러닝 순전파 & 역전파 계산\n",
        "\n",
        "딥러닝 강의(__딥러닝 원리[2] 0:55 ~ 4:32 부분__)에 나오는 순전파 & 역전파 계산에 대한 문제 입니다.\n",
        "\n",
        "해당 영상과 다음 이미지를 참고하여 다음 2가지 물음에 답하세요.\n",
        "\n",
        "\n",
        "(1) 학습률이 0.2 일 경우 출력층의 노드값\n",
        "\n",
        "(2) 학습률이 0.1과 0.2 중 기대출력값이 지도데이터 \"3\"과 더 가까운 학습률은?"
      ]
    },
    {
      "cell_type": "markdown",
      "metadata": {
        "id": "CpwPFWhOUzww",
        "colab_type": "text"
      },
      "source": [
        "![대체 텍스트](https://www.notion.so/image/https%3A%2F%2Fs3-us-west-2.amazonaws.com%2Fsecure.notion-static.com%2Ff54dfd45-92ec-44ae-9616-6949d2484a45%2F_2020-06-10__5.22.03.png?table=block&id=ee05da89-3ceb-4ad9-a2d3-c9f68d24d1d9&width=3580&cache=v2)"
      ]
    },
    {
      "cell_type": "markdown",
      "metadata": {
        "id": "B2OVY7w5U3CI",
        "colab_type": "text"
      },
      "source": [
        "## (1) 학습률이 0.2 일 경우 출력층의 노드값 : \n",
        "## (2) 학습률이 0.1과 0.2 중 기대출력값이 지도데이터 \"3\"과 더 가까운 학습률은? : "
      ]
    },
    {
      "cell_type": "code",
      "metadata": {
        "id": "BgavfvqiWxBU",
        "colab_type": "code",
        "colab": {}
      },
      "source": [
        "2.65"
      ],
      "execution_count": null,
      "outputs": []
    },
    {
      "cell_type": "code",
      "metadata": {
        "id": "HLrPbpdLv3Rs",
        "colab_type": "code",
        "colab": {}
      },
      "source": [
        "0.1"
      ],
      "execution_count": null,
      "outputs": []
    }
  ]
}