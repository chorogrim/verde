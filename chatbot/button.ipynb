{
 "cells": [
  {
   "cell_type": "code",
   "execution_count": 21,
   "metadata": {},
   "outputs": [],
   "source": [
    "import telepot\n",
    "from telepot.loop import MessageLoop # 봇 구동\n",
    "from telepot.namedtuple import InlineKeyboardMarkup as MU # 마크업\n",
    "from telepot.namedtuple import InlineKeyboardButton as BT"
   ]
  },
  {
   "cell_type": "code",
   "execution_count": 22,
   "metadata": {},
   "outputs": [],
   "source": [
    "token = '5025918465:AAEik4LzCoJlvVO4UaKfEIy6L5mdP_7CQSA'\n",
    "mc = '5059790606'\n",
    "bot = telepot.Bot(token)"
   ]
  },
  {
   "cell_type": "code",
   "execution_count": 23,
   "metadata": {},
   "outputs": [
    {
     "data": {
      "text/plain": [
       "{'message_id': 261,\n",
       " 'from': {'id': 5025918465,\n",
       "  'is_bot': True,\n",
       "  'first_name': 'python7869',\n",
       "  'username': 'python2022_bot'},\n",
       " 'chat': {'id': 5059790606,\n",
       "  'first_name': 'Rim',\n",
       "  'last_name': 'Chorog',\n",
       "  'username': 'rxxcr215',\n",
       "  'type': 'private'},\n",
       " 'date': 1641396690,\n",
       " 'text': 'hi'}"
      ]
     },
     "execution_count": 23,
     "metadata": {},
     "output_type": "execute_result"
    }
   ],
   "source": [
    "bot.sendMessage(mc, 'hi')"
   ]
  },
  {
   "cell_type": "code",
   "execution_count": 24,
   "metadata": {},
   "outputs": [],
   "source": [
    "btn1 = BT(text = \"1. Hello\", callback_data = \"1\")\n",
    "btn2 = BT(text = \"2. Bye\", callback_data = \"2\")"
   ]
  },
  {
   "cell_type": "code",
   "execution_count": 25,
   "metadata": {},
   "outputs": [],
   "source": [
    "mu = MU(inline_keyboard = [[btn1, btn2]]) # 가로로 배열\n",
    "mu = MU(inline_keyboard = [[btn1], [btn2]]) # 세로로 배열"
   ]
  },
  {
   "cell_type": "code",
   "execution_count": 26,
   "metadata": {
    "scrolled": true
   },
   "outputs": [
    {
     "data": {
      "text/plain": [
       "{'message_id': 262,\n",
       " 'from': {'id': 5025918465,\n",
       "  'is_bot': True,\n",
       "  'first_name': 'python7869',\n",
       "  'username': 'python2022_bot'},\n",
       " 'chat': {'id': 5059790606,\n",
       "  'first_name': 'Rim',\n",
       "  'last_name': 'Chorog',\n",
       "  'username': 'rxxcr215',\n",
       "  'type': 'private'},\n",
       " 'date': 1641396698,\n",
       " 'text': '선택하세요',\n",
       " 'reply_markup': {'inline_keyboard': [[{'text': '1. Hello',\n",
       "     'callback_data': '1'}],\n",
       "   [{'text': '2. Bye', 'callback_data': '2'}]]}}"
      ]
     },
     "execution_count": 26,
     "metadata": {},
     "output_type": "execute_result"
    }
   ],
   "source": [
    "bot.sendMessage(mc, \"선택하세요\", reply_markup = mu)"
   ]
  },
  {
   "cell_type": "code",
   "execution_count": 19,
   "metadata": {},
   "outputs": [],
   "source": [
    "def btn_show(msg):\n",
    "    btn1 = BT(text = \"1. Hello\", callback_data = \"1\")\n",
    "    btn2 = BT(text = \"2. Bye\", callback_data = \"2\")\n",
    "    mu = MU(inline_keyboard = [[btn1, btn2]])\n",
    "    bot.sendMessage(mc, \"선택하세요\", reply_markup = mu)"
   ]
  },
  {
   "cell_type": "code",
   "execution_count": null,
   "metadata": {},
   "outputs": [],
   "source": []
  }
 ],
 "metadata": {
  "kernelspec": {
   "display_name": "Python 3",
   "language": "python",
   "name": "python3"
  },
  "language_info": {
   "codemirror_mode": {
    "name": "ipython",
    "version": 3
   },
   "file_extension": ".py",
   "mimetype": "text/x-python",
   "name": "python",
   "nbconvert_exporter": "python",
   "pygments_lexer": "ipython3",
   "version": "3.8.5"
  }
 },
 "nbformat": 4,
 "nbformat_minor": 4
}
